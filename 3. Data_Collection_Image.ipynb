{
 "cells": [
  {
   "cell_type": "markdown",
   "metadata": {},
   "source": [
    "# DATA COLLECTION\n",
    "\n",
    "Data collection script - for image classification\n",
    "\n",
    "Scripts are based and tested on image, \"Yahboom_jetbot_64G_20200520\"\n",
    "\n",
    "Original source code from https://github.com/NVIDIA-AI-IOT/jetbot/\n",
    "\n",
    "Modified for P-project, needs road following with traffic sign detection.\n"
   ]
  },
  {
   "cell_type": "markdown",
   "metadata": {},
   "source": [
    "### 1. Display live camera feed\n",
    "\n",
    "Initialize and display camera"
   ]
  },
  {
   "cell_type": "code",
   "execution_count": 3,
   "metadata": {},
   "outputs": [
    {
     "ename": "ModuleNotFoundError",
     "evalue": "No module named 'jetbot'",
     "output_type": "error",
     "traceback": [
      "\u001b[1;31m---------------------------------------------------------------------------\u001b[0m",
      "\u001b[1;31mModuleNotFoundError\u001b[0m                       Traceback (most recent call last)",
      "\u001b[1;32m<ipython-input-3-075359aef2f3>\u001b[0m in \u001b[0;36m<module>\u001b[1;34m\u001b[0m\n\u001b[0;32m      2\u001b[0m \u001b[1;32mimport\u001b[0m \u001b[0mipywidgets\u001b[0m\u001b[1;33m.\u001b[0m\u001b[0mwidgets\u001b[0m \u001b[1;32mas\u001b[0m \u001b[0mwidgets\u001b[0m\u001b[1;33m\u001b[0m\u001b[1;33m\u001b[0m\u001b[0m\n\u001b[0;32m      3\u001b[0m \u001b[1;32mfrom\u001b[0m \u001b[0mIPython\u001b[0m\u001b[1;33m.\u001b[0m\u001b[0mdisplay\u001b[0m \u001b[1;32mimport\u001b[0m \u001b[0mdisplay\u001b[0m\u001b[1;33m\u001b[0m\u001b[1;33m\u001b[0m\u001b[0m\n\u001b[1;32m----> 4\u001b[1;33m \u001b[1;32mfrom\u001b[0m \u001b[0mjetbot\u001b[0m \u001b[1;32mimport\u001b[0m \u001b[0mCamera\u001b[0m\u001b[1;33m,\u001b[0m \u001b[0mbgr8_to_jpeg\u001b[0m\u001b[1;33m\u001b[0m\u001b[1;33m\u001b[0m\u001b[0m\n\u001b[0m\u001b[0;32m      5\u001b[0m \u001b[1;33m\u001b[0m\u001b[0m\n\u001b[0;32m      6\u001b[0m \u001b[0mcamera\u001b[0m \u001b[1;33m=\u001b[0m \u001b[0mCamera\u001b[0m\u001b[1;33m.\u001b[0m\u001b[0minstance\u001b[0m\u001b[1;33m(\u001b[0m\u001b[0mwidth\u001b[0m\u001b[1;33m=\u001b[0m\u001b[1;36m224\u001b[0m\u001b[1;33m,\u001b[0m \u001b[0mheight\u001b[0m\u001b[1;33m=\u001b[0m\u001b[1;36m224\u001b[0m\u001b[1;33m)\u001b[0m\u001b[1;33m\u001b[0m\u001b[1;33m\u001b[0m\u001b[0m\n",
      "\u001b[1;31mModuleNotFoundError\u001b[0m: No module named 'jetbot'"
     ]
    }
   ],
   "source": [
    "import traitlets\n",
    "import ipywidgets.widgets as widgets\n",
    "from IPython.display import display\n",
    "from jetbot import Camera, bgr8_to_jpeg\n",
    "\n",
    "camera = Camera.instance(width=224, height=224)\n",
    "\n",
    "image = widgets.Image(format='jpeg', width=224, height=224)\n",
    "\n",
    "camera_link = traitlets.dlink((camera, 'value'), (image, 'value'), transform=bgr8_to_jpeg)\n",
    "\n",
    "display(image)"
   ]
  },
  {
   "cell_type": "markdown",
   "metadata": {},
   "source": [
    "### 2. Create directories for dataset\n",
    "Create folder ``dataset_image`` that will contain five sub-folders\n",
    "\n",
    ">``free`` : free state of road - make robot to follow road\n",
    "\n",
    ">``lego`` : image for lego\n",
    "\n",
    ">``color_red`` : image for red-colored sign\n",
    "\n",
    ">``color_yellow`` : image for yellow-colored sign\n",
    "\n",
    ">``color_green`` : image for green-colored sign"
   ]
  },
  {
   "cell_type": "code",
   "execution_count": 1,
   "metadata": {},
   "outputs": [],
   "source": [
    "import os\n",
    "\n",
    "free_dir = 'dataset_image/free'\n",
    "lego_dir = 'dataset_image/lego'\n",
    "color_red_dir = 'dataset_image/color_red'\n",
    "color_yellow_dir = 'dataset_image/color_yellow'\n",
    "color_green_dir = 'dataset_image/color_green'\n",
    "\n",
    "try:\n",
    "    os.makedirs(free_dir)\n",
    "    os.makedirs(lego_dir)\n",
    "    os.makedirs(color_red_dir)\n",
    "    os.makedirs(color_yellow_dir)\n",
    "    os.makedirs(color_green_dir)\n",
    "except FileExistsError:\n",
    "    print('Directories not created becasue they already exist')"
   ]
  },
  {
   "cell_type": "markdown",
   "metadata": {},
   "source": [
    "### 3. Create widgets\n",
    "Create widgets for data collection"
   ]
  },
  {
   "cell_type": "code",
   "execution_count": 10,
   "metadata": {},
   "outputs": [],
   "source": [
    "button_layout = widgets.Layout(width='128px', height='32px')\n",
    "\n",
    "free_button = widgets.Button(description='add free', button_style='success', layout=button_layout)\n",
    "lego_button = widgets.Button(description='add lego', button_style='danger', layout=button_layout)\n",
    "color_red_dir_button = widgets.Button(description='add color_red', button_style='info', layout=button_layout)\n",
    "color_yellow_dir_button = widgets.Button(description='add color_yellow', button_style='info', layout=button_layout)\n",
    "color_green_dir_button = widgets.Button(description='add color_green', button_style='info', layout=button_layout)\n",
    "\n",
    "free_count = widgets.IntText(layout=button_layout, value=len(os.listdir(free_dir)))\n",
    "lego_count = widgets.IntText(layout=button_layout, value=len(os.listdir(lego_dir)))\n",
    "color_red_count = widgets.IntText(layout=button_layout, value=len(os.listdir(color_red_dir)))\n",
    "color_yellow_count = widgets.IntText(layout=button_layout, value=len(os.listdir(color_yellow_dir)))\n",
    "color_green_count = widgets.IntText(layout=button_layout, value=len(os.listdir(color_green_dir)))"
   ]
  },
  {
   "cell_type": "markdown",
   "metadata": {},
   "source": [
    "### 4. Attach functions to buttons\n",
    "Attach functions to save images for each category to the button's ``on_click`` event,\n",
    "\n",
    "save value of the ``image`` widget.\n",
    "\n",
    "To uniquely identifies the file, use ``uuid1`` method."
   ]
  },
  {
   "cell_type": "code",
   "execution_count": 8,
   "metadata": {},
   "outputs": [],
   "source": [
    "from uuid import uuid1\n",
    "\n",
    "def save_snapshot(directory):\n",
    "    image_path = os.path.join(directory, str(uuid1()) + '.jpg')\n",
    "    with open(image_path, 'wb') as f:\n",
    "        f.write(image.value)\n",
    "\n",
    "def save_free():\n",
    "    global free_dir, free_count\n",
    "    save_snapshot(free_dir)\n",
    "    free_count.value = len(os.listdir(free_dir))\n",
    "    \n",
    "def save_lego():\n",
    "    global lego_dir, lego_count\n",
    "    save_snapshot(lego_dir)\n",
    "    lego_count.value = len(os.listdir(lego_dir))\n",
    "    \n",
    "def save_color_red():\n",
    "    global color_red_dir, color_red_count\n",
    "    save_snapshot(color_red_dir)\n",
    "    color_red_count.value = len(os.listdir(color_red_dir))\n",
    "\n",
    "def save_color_yellow():\n",
    "    global color_yellow_dir, color_yellow_count\n",
    "    save_snapshot(color_yellow_dir)\n",
    "    color_yellow_count.value = len(os.listdir(color_yellow_dir))\n",
    "\n",
    "def save_color_green():\n",
    "    global color_green_dir, color_green_count\n",
    "    save_snapshot(color_green_dir)\n",
    "    color_green_count.value = len(os.listdir(color_green_dir))\n",
    "        \n",
    "free_button.on_click(lambda x: save_free())\n",
    "lego_button.on_click(lambda x: save_lego())\n",
    "color_red_dir_button.on_click(lambda x: save_color_red())\n",
    "color_yellow_dir_button.on_click(lambda x: save_color_yellow())\n",
    "color_green_dir_button.on_click(lambda x: save_color_green())"
   ]
  },
  {
   "cell_type": "markdown",
   "metadata": {},
   "source": [
    "### 5. Display widgets and Collect data\n",
    "Place the robot in each scenario and press button\n",
    "\n",
    ">Try different orientations\n",
    "\n",
    ">Try different lighting"
   ]
  },
  {
   "cell_type": "code",
   "execution_count": 9,
   "metadata": {},
   "outputs": [
    {
     "ename": "NameError",
     "evalue": "name 'image' is not defined",
     "output_type": "error",
     "traceback": [
      "\u001b[1;31m---------------------------------------------------------------------------\u001b[0m",
      "\u001b[1;31mNameError\u001b[0m                                 Traceback (most recent call last)",
      "\u001b[1;32m<ipython-input-9-f7e645d34515>\u001b[0m in \u001b[0;36m<module>\u001b[1;34m\u001b[0m\n\u001b[1;32m----> 1\u001b[1;33m \u001b[0mdisplay\u001b[0m\u001b[1;33m(\u001b[0m\u001b[0mimage\u001b[0m\u001b[1;33m)\u001b[0m\u001b[1;33m\u001b[0m\u001b[1;33m\u001b[0m\u001b[0m\n\u001b[0m\u001b[0;32m      2\u001b[0m \u001b[0mdisplay\u001b[0m\u001b[1;33m(\u001b[0m\u001b[0mwidgets\u001b[0m\u001b[1;33m.\u001b[0m\u001b[0mHBox\u001b[0m\u001b[1;33m(\u001b[0m\u001b[1;33m[\u001b[0m\u001b[0mfree_count\u001b[0m\u001b[1;33m,\u001b[0m \u001b[0mfree_button\u001b[0m\u001b[1;33m]\u001b[0m\u001b[1;33m)\u001b[0m\u001b[1;33m)\u001b[0m\u001b[1;33m\u001b[0m\u001b[1;33m\u001b[0m\u001b[0m\n\u001b[0;32m      3\u001b[0m \u001b[0mdisplay\u001b[0m\u001b[1;33m(\u001b[0m\u001b[0mwidgets\u001b[0m\u001b[1;33m.\u001b[0m\u001b[0mHBox\u001b[0m\u001b[1;33m(\u001b[0m\u001b[1;33m[\u001b[0m\u001b[0mlego_count\u001b[0m\u001b[1;33m,\u001b[0m \u001b[0mlego_button\u001b[0m\u001b[1;33m]\u001b[0m\u001b[1;33m)\u001b[0m\u001b[1;33m)\u001b[0m\u001b[1;33m\u001b[0m\u001b[1;33m\u001b[0m\u001b[0m\n\u001b[0;32m      4\u001b[0m \u001b[0mdisplay\u001b[0m\u001b[1;33m(\u001b[0m\u001b[0mwidgets\u001b[0m\u001b[1;33m.\u001b[0m\u001b[0mHBox\u001b[0m\u001b[1;33m(\u001b[0m\u001b[1;33m[\u001b[0m\u001b[0mcolor_red_count\u001b[0m\u001b[1;33m,\u001b[0m \u001b[0mcolor_red_dir_button\u001b[0m\u001b[1;33m]\u001b[0m\u001b[1;33m)\u001b[0m\u001b[1;33m)\u001b[0m\u001b[1;33m\u001b[0m\u001b[1;33m\u001b[0m\u001b[0m\n\u001b[0;32m      5\u001b[0m \u001b[0mdisplay\u001b[0m\u001b[1;33m(\u001b[0m\u001b[0mwidgets\u001b[0m\u001b[1;33m.\u001b[0m\u001b[0mHBox\u001b[0m\u001b[1;33m(\u001b[0m\u001b[1;33m[\u001b[0m\u001b[0mcolor_yellow_count\u001b[0m\u001b[1;33m,\u001b[0m \u001b[0mcolor_yellow_dir_button\u001b[0m\u001b[1;33m]\u001b[0m\u001b[1;33m)\u001b[0m\u001b[1;33m)\u001b[0m\u001b[1;33m\u001b[0m\u001b[1;33m\u001b[0m\u001b[0m\n",
      "\u001b[1;31mNameError\u001b[0m: name 'image' is not defined"
     ]
    }
   ],
   "source": [
    "display(image)\n",
    "display(widgets.HBox([free_count, free_button]))\n",
    "display(widgets.HBox([lego_count, lego_button]))\n",
    "display(widgets.HBox([color_red_count, color_red_dir_button]))\n",
    "display(widgets.HBox([color_yellow_count, color_yellow_dir_button]))\n",
    "display(widgets.HBox([color_green_count, color_green_dir_button]))"
   ]
  },
  {
   "cell_type": "markdown",
   "metadata": {},
   "source": [
    "### 6. Close and Send dataset\n",
    "Close the camera, compess dataset folder to copy easier\n",
    "\n",
    "After running this code, the file ``dataset_image.zip`` will be created\n",
    "\n",
    "Find this file in the Jupyter Lab file browser, right click and select ``copy download link``\n",
    "\n",
    "Using the link, download the file to computer."
   ]
  },
  {
   "cell_type": "code",
   "execution_count": null,
   "metadata": {},
   "outputs": [],
   "source": [
    "camera.stop()\n",
    "\n",
    "!zip -r -q dataset_image.zip dataset_image"
   ]
  }
 ],
 "metadata": {
  "kernelspec": {
   "display_name": "Python 3",
   "language": "python",
   "name": "python3"
  },
  "language_info": {
   "codemirror_mode": {
    "name": "ipython",
    "version": 3
   },
   "file_extension": ".py",
   "mimetype": "text/x-python",
   "name": "python",
   "nbconvert_exporter": "python",
   "pygments_lexer": "ipython3",
   "version": "3.7.9"
  }
 },
 "nbformat": 4,
 "nbformat_minor": 4
}
