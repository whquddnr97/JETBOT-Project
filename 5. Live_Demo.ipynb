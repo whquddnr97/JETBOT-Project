{
 "cells": [
  {
   "cell_type": "markdown",
   "metadata": {},
   "source": [
    "# Live Demo\n",
    "\n",
    "Live Demo script - Road following with traffic sign detection\n",
    "\n",
    "Scripts are based and tested on image, \"Yahboom_jetbot_64G_20200520\"\n",
    "\n",
    "Original source code from https://github.com/NVIDIA-AI-IOT/jetbot/\n",
    "\n",
    "Modified for P-project, needs road following with traffic sign detection.\n"
   ]
  },
  {
   "cell_type": "markdown",
   "metadata": {},
   "source": [
    "### 1. Load Trained Models\n",
    "Load trained models for Road following and Traffic sign detection\n",
    ">``best_steering_model_xy.pth`` from ``Train_Model_Road``\n",
    "\n",
    ">``best_model_resnet18.pth`` from ``Train_Model_Image``\n",
    "\n",
    "Model weights are located on the GPU device."
   ]
  },
  {
   "cell_type": "code",
   "execution_count": 1,
   "metadata": {},
   "outputs": [],
   "source": [
    "import torchvision\n",
    "import torch\n",
    "from servoserial import ServoSerial\n",
    "\n",
    "device = torch.device('cuda')\n",
    "\n",
    "model = torchvision.models.resnet18(pretrained=False)\n",
    "model.fc = torch.nn.Linear(512, 2)\n",
    "model.load_state_dict(torch.load('best_steering_model_xy.pth'))\n",
    "model = model.to(device)\n",
    "model = model.eval().half()\n",
    "\n",
    "model_image = torchvision.models.resnet18(pretrained=False)\n",
    "model_image.fc = torch.nn.Linear(512, 5)\n",
    "model_image.load_state_dict(torch.load('best_model_resnet18.pth'))\n",
    "model_image = model_image.to(device)\n",
    "model_image = model_image.eval().half()"
   ]
  },
  {
   "cell_type": "markdown",
   "metadata": {},
   "source": [
    "### 2. Creating the Pre-Processing Function\n",
    "Define Pre-Processing function which can convert images from the camera format to\n",
    "\n",
    "the neural network input format."
   ]
  },
  {
   "cell_type": "code",
   "execution_count": 2,
   "metadata": {},
   "outputs": [],
   "source": [
    "import torchvision.transforms as transforms\n",
    "import torch.nn.functional as F\n",
    "import cv2\n",
    "import PIL.Image\n",
    "import numpy as np\n",
    "\n",
    "mean = torch.Tensor([0.485, 0.456, 0.406]).cuda().half()\n",
    "std = torch.Tensor([0.229, 0.224, 0.225]).cuda().half()\n",
    "\n",
    "def preprocess(image):\n",
    "    image = PIL.Image.fromarray(image)\n",
    "    image = transforms.functional.to_tensor(image).to(device).half()\n",
    "    image.sub_(mean[:, None, None]).div_(std[:, None, None])\n",
    "    return image[None, ...]"
   ]
  },
  {
   "cell_type": "markdown",
   "metadata": {},
   "source": [
    "### 3. Display live camera feed\n",
    "Initialize and display camera\n",
    "\n",
    ">When SerialException occurs, open terminal and type ``sudo chmod 777 /dev/ttyTHS1``"
   ]
  },
  {
   "cell_type": "code",
   "execution_count": 3,
   "metadata": {},
   "outputs": [
    {
     "name": "stdout",
     "output_type": "stream",
     "text": [
      "serial Open!\n"
     ]
    },
    {
     "data": {
      "application/vnd.jupyter.widget-view+json": {
       "model_id": "e4d7ac02681e44e4b1d82c570aabf610",
       "version_major": 2,
       "version_minor": 0
      },
      "text/plain": [
       "Image(value=b'\\xff\\xd8\\xff\\xe0\\x00\\x10JFIF\\x00\\x01\\x01\\x00\\x00\\x01\\x00\\x01\\x00\\x00\\xff\\xdb\\x00C\\x00\\x02\\x01\\x0…"
      ]
     },
     "metadata": {},
     "output_type": "display_data"
    }
   ],
   "source": [
    "from IPython.display import display\n",
    "import ipywidgets\n",
    "import traitlets\n",
    "from jetbot import Camera, bgr8_to_jpeg\n",
    "from servoserial import ServoSerial\n",
    "\n",
    "camera = Camera.instance(width=224, height=224,capture_width=224, capture_height=224, fps=5)\n",
    "servo_device = ServoSerial()\n",
    "image_widget = ipywidgets.Image()\n",
    "\n",
    "traitlets.dlink((camera, 'value'), (image_widget, 'value'), transform=bgr8_to_jpeg)\n",
    "\n",
    "display(image_widget)\n",
    "\n",
    "def camservoInitFunction():\n",
    "    global leftrightpulse, updownpulse\n",
    "    leftrightpulse = 2048\n",
    "    updownpulse = 2048\n",
    "    servo_device.Servo_serial_control(1, 2150)\n",
    "    time.sleep(0.1)\n",
    "    servo_device.Servo_serial_control(2, 1300)"
   ]
  },
  {
   "cell_type": "markdown",
   "metadata": {},
   "source": [
    "### 4. Create robot instance\n",
    "Create robot instance to drive the motors."
   ]
  },
  {
   "cell_type": "code",
   "execution_count": 4,
   "metadata": {},
   "outputs": [],
   "source": [
    "from jetbot import Robot\n",
    "\n",
    "robot = Robot()"
   ]
  },
  {
   "cell_type": "markdown",
   "metadata": {},
   "source": [
    "### 5. Create sliders to control jetbot\n",
    "Create sliders to control jetbot.\n",
    "\n",
    ">speed_gain_slider : Speed Control\n",
    "\n",
    ">steering_gain_slider : Steering Gain Control\n",
    "\n",
    ">steering_dgain_slider : Steering kd Control\n",
    "\n",
    ">steering_bias_slider : Steering Bias control"
   ]
  },
  {
   "cell_type": "code",
   "execution_count": 5,
   "metadata": {},
   "outputs": [
    {
     "data": {
      "application/vnd.jupyter.widget-view+json": {
       "model_id": "c86f39e2d9e4495283aaf893f85ea623",
       "version_major": 2,
       "version_minor": 0
      },
      "text/plain": [
       "FloatSlider(value=0.0, description='speed gain', max=1.0, step=0.01)"
      ]
     },
     "metadata": {},
     "output_type": "display_data"
    },
    {
     "data": {
      "application/vnd.jupyter.widget-view+json": {
       "model_id": "62ae73e1d9d0463a8d9a306de18ccbd0",
       "version_major": 2,
       "version_minor": 0
      },
      "text/plain": [
       "FloatSlider(value=0.2, description='steering gain', max=1.0, step=0.01)"
      ]
     },
     "metadata": {},
     "output_type": "display_data"
    },
    {
     "data": {
      "application/vnd.jupyter.widget-view+json": {
       "model_id": "e80ff29dd2b84fe88136930c477b6c44",
       "version_major": 2,
       "version_minor": 0
      },
      "text/plain": [
       "FloatSlider(value=0.0, description='steering kd', max=0.5, step=0.001)"
      ]
     },
     "metadata": {},
     "output_type": "display_data"
    },
    {
     "data": {
      "application/vnd.jupyter.widget-view+json": {
       "model_id": "e2867ef27c5647698db09914163c6d15",
       "version_major": 2,
       "version_minor": 0
      },
      "text/plain": [
       "FloatSlider(value=0.0, description='steering bias', max=0.3, min=-0.3, step=0.01)"
      ]
     },
     "metadata": {},
     "output_type": "display_data"
    }
   ],
   "source": [
    "speed_gain_slider = ipywidgets.FloatSlider(min=0.0, max=1.0, step=0.01, description='speed gain')\n",
    "steering_gain_slider = ipywidgets.FloatSlider(min=0.0, max=1.0, step=0.01, value=0.2, description='steering gain')\n",
    "steering_dgain_slider = ipywidgets.FloatSlider(min=0.0, max=0.5, step=0.001, value=0.0, description='steering kd')\n",
    "steering_bias_slider = ipywidgets.FloatSlider(min=-0.3, max=0.3, step=0.01, value=0.0, description='steering bias')\n",
    "\n",
    "display(speed_gain_slider, steering_gain_slider, steering_dgain_slider, steering_bias_slider)"
   ]
  },
  {
   "cell_type": "markdown",
   "metadata": {},
   "source": [
    "### 6. Create sliders to monitor jetbot\n",
    "Create sliders to monitor jetbot.\n",
    "\n",
    ">x, y slider : Predicted x, y values\n",
    "\n",
    ">steering, speed slider : Estimated steering, speed value\n",
    "\n",
    ">free, lego, red, yellow, green slider : Estimated traffic signs"
   ]
  },
  {
   "cell_type": "code",
   "execution_count": 6,
   "metadata": {
    "scrolled": true
   },
   "outputs": [
    {
     "data": {
      "application/vnd.jupyter.widget-view+json": {
       "model_id": "6abc972c0edc4de2a67cd779643d5132",
       "version_major": 2,
       "version_minor": 0
      },
      "text/plain": [
       "HBox(children=(FloatSlider(value=0.0, description='x', max=1.0, min=-1.0), FloatSlider(value=0.0, description=…"
      ]
     },
     "metadata": {},
     "output_type": "display_data"
    },
    {
     "data": {
      "application/vnd.jupyter.widget-view+json": {
       "model_id": "8b35bc8d03da40daa560d8317b2d7b48",
       "version_major": 2,
       "version_minor": 0
      },
      "text/plain": [
       "HBox(children=(FloatSlider(value=0.0, description='speed', max=1.0), FloatSlider(value=0.0, description='steer…"
      ]
     },
     "metadata": {},
     "output_type": "display_data"
    },
    {
     "data": {
      "application/vnd.jupyter.widget-view+json": {
       "model_id": "ec5e3dbce4bf4fa2b95eaeb7ea3a762e",
       "version_major": 2,
       "version_minor": 0
      },
      "text/plain": [
       "HBox(children=(FloatSlider(value=0.0, description='free', max=1.0, orientation='vertical'), FloatSlider(value=…"
      ]
     },
     "metadata": {},
     "output_type": "display_data"
    }
   ],
   "source": [
    "x_slider = ipywidgets.FloatSlider(min=-1.0, max=1.0, description='x')\n",
    "y_slider = ipywidgets.FloatSlider(min=0, max=1.0, description='y')\n",
    "steering_slider = ipywidgets.FloatSlider(min=-1.0, max=1.0, description='steering')\n",
    "speed_slider = ipywidgets.FloatSlider(min=0, max=1.0, description='speed')\n",
    "\n",
    "free_slider = ipywidgets.FloatSlider(min=0, max=1.0, orientation = 'vertical', description='free')\n",
    "lego_slider = ipywidgets.FloatSlider(min=0, max=1.0, orientation = 'vertical',description='lego')\n",
    "red_slider = ipywidgets.FloatSlider(min=0, max=1.0, orientation = 'vertical',description='red')\n",
    "yellow_slider = ipywidgets.FloatSlider(min=0, max=1.0, orientation = 'vertical',description='yellow')\n",
    "green_slider = ipywidgets.FloatSlider(min=0, max=1.0, orientation = 'vertical',description='green')\n",
    "\n",
    "display(ipywidgets.HBox([x_slider, y_slider]))\n",
    "display(ipywidgets.HBox([speed_slider, steering_slider]))\n",
    "display(ipywidgets.HBox([free_slider, lego_slider, red_slider, yellow_slider, green_slider]))"
   ]
  },
  {
   "cell_type": "markdown",
   "metadata": {},
   "source": [
    "### 7. Create neural network execution function\n",
    "Create function that will get called whenever the camera's value changes.\n",
    "\n",
    "1. Pre-process the camera image\n",
    "\n",
    "2. Execute the neural network\n",
    "\n",
    "3. Compute the approximate steering value\n",
    "\n",
    "4. Control the motors using proportional / derivative control (PD)\n",
    "\n",
    "5. By the index of max value in image_detect_list, movement logic changes."
   ]
  },
  {
   "cell_type": "code",
   "execution_count": 7,
   "metadata": {},
   "outputs": [],
   "source": [
    "import time\n",
    "\n",
    "angle = 0.0\n",
    "angle_last = 0.0\n",
    "\n",
    "def execute(change):\n",
    "    global angle, angle_last\n",
    "    image = change['new']\n",
    "    xy = model(preprocess(image)).detach().float().cpu().numpy().flatten()\n",
    "    x = xy[0]\n",
    "    y = (0.5 - xy[1]) / 2.0\n",
    "    \n",
    "    x_slider.value = x\n",
    "    y_slider.value = y\n",
    "    \n",
    "    speed_slider.value = speed_gain_slider.value\n",
    "    \n",
    "    angle = np.arctan2(x, y)\n",
    "    pid = angle * steering_gain_slider.value + (angle - angle_last) * steering_dgain_slider.value\n",
    "    angle_last = angle\n",
    "    \n",
    "    steering_slider.value = pid + steering_bias_slider.value\n",
    "    \n",
    "    traffic_signs = model_image(preprocess(image)).detach().float().cpu()\n",
    "    traffic_signs = F.softmax(traffic_signs, dim=1)\n",
    "    \n",
    "    image_lego = float(traffic_signs.flatten()[4])\n",
    "    image_red = float(traffic_signs.flatten()[1])\n",
    "    image_yellow = float(traffic_signs.flatten()[2])\n",
    "    image_green = float(traffic_signs.flatten()[0])\n",
    "    image_free = float(traffic_signs.flatten()[3])\n",
    "    \n",
    "    image_detect_list = [0, 0, 0, 0, 0]\n",
    "    image_detect_list[4] = image_lego\n",
    "    image_detect_list[1] = image_red\n",
    "    image_detect_list[2] = image_yellow\n",
    "    image_detect_list[0] = image_green\n",
    "    image_detect_list[3] = image_free\n",
    "    image_detect = image_detect_list.index(max(image_detect_list))\n",
    "    \n",
    "    lego_slider.value = image_lego\n",
    "    red_slider.value = image_red\n",
    "    yellow_slider.value = image_yellow\n",
    "    green_slider.value = image_green\n",
    "    free_slider.value = image_free\n",
    "\n",
    "    if (image_detect == 3): #free\n",
    "        robot.left_motor.value = max(min(speed_slider.value + steering_slider.value, 1.0), 0.0)\n",
    "        robot.right_motor.value = max(min(speed_slider.value - steering_slider.value, 1.0), 0.0)\n",
    "    else:\n",
    "        if (image_detect == 0): #green\n",
    "            robot.forward(0.0)\n",
    "        if (image_detect == 1): #red\n",
    "            robot.forward(0.0)\n",
    "        if (image_detect == 2): #yellow\n",
    "            robot.forward(0.0)\n",
    "        if (image_detect == 4): #lego\n",
    "            robot.right(0.0)\n",
    "    \n",
    "    time.sleep(0.001)\n",
    "\n",
    "execute({'new': camera.value})"
   ]
  },
  {
   "cell_type": "markdown",
   "metadata": {},
   "source": [
    "### 8. Attach neural network function to the camera\n",
    "Attach neural network function to the camera for processing\n",
    "\n",
    ">This code will move the robot"
   ]
  },
  {
   "cell_type": "code",
   "execution_count": 8,
   "metadata": {},
   "outputs": [
    {
     "name": "stdout",
     "output_type": "stream",
     "text": [
      "184\n",
      "b'\\xff\\xff\\x01\\x07\\x03*\\x08\\x00\\x00\\n\\xb8'\n",
      "166\n",
      "b'\\xff\\xff\\x02\\x07\\x03*\\x05\\x14\\x00\\n\\xa6'\n"
     ]
    }
   ],
   "source": [
    "camservoInitFunction()\n",
    "camera.observe(execute, names='value')"
   ]
  },
  {
   "cell_type": "markdown",
   "metadata": {},
   "source": [
    "### 9. Unlink camera\n",
    "Reduce CPU usage"
   ]
  },
  {
   "cell_type": "code",
   "execution_count": null,
   "metadata": {},
   "outputs": [],
   "source": [
    "camera_link.unlink()"
   ]
  },
  {
   "cell_type": "markdown",
   "metadata": {},
   "source": [
    "### 10. Stop robot and camera"
   ]
  },
  {
   "cell_type": "code",
   "execution_count": 9,
   "metadata": {},
   "outputs": [],
   "source": [
    "import time\n",
    "\n",
    "camera.unobserve(execute, names='value')\n",
    "\n",
    "time.sleep(0.1)\n",
    "\n",
    "robot.stop()\n",
    "\n",
    "camera.stop()"
   ]
  },
  {
   "cell_type": "code",
   "execution_count": null,
   "metadata": {},
   "outputs": [],
   "source": []
  }
 ],
 "metadata": {
  "kernelspec": {
   "display_name": "Python 3",
   "language": "python",
   "name": "python3"
  },
  "language_info": {
   "codemirror_mode": {
    "name": "ipython",
    "version": 3
   },
   "file_extension": ".py",
   "mimetype": "text/x-python",
   "name": "python",
   "nbconvert_exporter": "python",
   "pygments_lexer": "ipython3",
   "version": "3.7.9"
  }
 },
 "nbformat": 4,
 "nbformat_minor": 4
}
